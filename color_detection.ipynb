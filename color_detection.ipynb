{
 "cells": [
  {
   "cell_type": "code",
   "execution_count": 63,
   "id": "6b47f55f",
   "metadata": {},
   "outputs": [],
   "source": [
    "import cv2\n",
    "import pandas as pd"
   ]
  },
  {
   "cell_type": "code",
   "execution_count": 64,
   "id": "a57fa7b2",
   "metadata": {},
   "outputs": [],
   "source": [
    "image_path = \"colorpic.jpg\"\n",
    "image = cv2.imread(image_path)"
   ]
  },
  {
   "cell_type": "code",
   "execution_count": 65,
   "id": "32dab55f",
   "metadata": {},
   "outputs": [],
   "source": [
    "index=[\"color\",\"color_name\",\"hex\",\"R\",\"G\",\"B\"]\n",
    "color_dataset= pd.read_csv('colors.csv', names=index, header=None)"
   ]
  },
  {
   "cell_type": "code",
   "execution_count": 66,
   "id": "17625b7c",
   "metadata": {},
   "outputs": [
    {
     "name": "stdout",
     "output_type": "stream",
     "text": [
      "Missing values:\n",
      " color         0\n",
      "color_name    0\n",
      "hex           0\n",
      "R             0\n",
      "G             0\n",
      "B             0\n",
      "dtype: int64\n"
     ]
    }
   ],
   "source": [
    "# Check for missing values\n",
    "missing_values = color_dataset.isnull().sum()\n",
    "print(\"Missing values:\\n\", missing_values)"
   ]
  },
  {
   "cell_type": "code",
   "execution_count": 67,
   "id": "6a5dc79b",
   "metadata": {},
   "outputs": [
    {
     "name": "stdout",
     "output_type": "stream",
     "text": [
      "Color Name Frequency:\n",
      " color_name\n",
      "Air Force Blue (Raf)    1\n",
      "Pale Taupe              1\n",
      "Pale Gold               1\n",
      "Pale Goldenrod          1\n",
      "Pale Green              1\n",
      "                       ..\n",
      "English Lavender        1\n",
      "Eton Blue               1\n",
      "Fallow                  1\n",
      "Falu Red                1\n",
      "Zinnwaldite Brown       1\n",
      "Name: count, Length: 865, dtype: int64\n"
     ]
    }
   ],
   "source": [
    "# Color name frequency\n",
    "color_name_counts = color_dataset['color_name'].value_counts()\n",
    "print(\"Color Name Frequency:\\n\", color_name_counts)\n"
   ]
  },
  {
   "cell_type": "code",
   "execution_count": 68,
   "id": "f3d4fde4",
   "metadata": {},
   "outputs": [
    {
     "name": "stdout",
     "output_type": "stream",
     "text": [
      "Summary Statistics for R, G, and B values:\n",
      "                 R           G           B\n",
      "count  865.000000  865.000000  865.000000\n",
      "mean   158.598844  124.683237  119.087861\n",
      "std     85.338432   76.270225   78.343862\n",
      "min      0.000000    0.000000    0.000000\n",
      "25%    101.000000   64.000000   53.000000\n",
      "50%    178.000000  123.000000  119.000000\n",
      "75%    236.000000  190.000000  186.000000\n",
      "max    255.000000  255.000000  255.000000\n"
     ]
    }
   ],
   "source": [
    "# Summary statistics for R, G, and B values\n",
    "summary_stats_rgb = color_dataset[['R', 'G', 'B']].describe()\n",
    "print(\"Summary Statistics for R, G, and B values:\\n\", summary_stats_rgb)"
   ]
  },
  {
   "cell_type": "code",
   "execution_count": 69,
   "id": "64c35ac0",
   "metadata": {},
   "outputs": [
    {
     "name": "stdout",
     "output_type": "stream",
     "text": [
      "Highest R Value: 255\n",
      "Color Name with Highest R Value: Amber\n"
     ]
    }
   ],
   "source": [
    "# Find the color with the highest R value\n",
    "highest_r_color = color_dataset[color_dataset['R'] == color_dataset['R'].max()]\n",
    "highest_r_color_name = highest_r_color['color_name'].values[0]\n",
    "highest_r_value = highest_r_color['R'].values[0]\n",
    "\n",
    "print(f\"Highest R Value: {highest_r_value}\")\n",
    "print(f\"Color Name with Highest R Value: {highest_r_color_name}\")"
   ]
  },
  {
   "cell_type": "code",
   "execution_count": 70,
   "id": "91ab07c1",
   "metadata": {},
   "outputs": [
    {
     "name": "stdout",
     "output_type": "stream",
     "text": [
      "lowest R Value: 0\n",
      "Color Name with lowest R Value: Air Force Blue (Usaf)\n"
     ]
    }
   ],
   "source": [
    "# Find the color with the lowest R value\n",
    "lowest_r_color = color_dataset[color_dataset['R'] == color_dataset['R'].min()]\n",
    "lowest_r_color_name = lowest_r_color['color_name'].values[0]\n",
    "lowest_r_value = lowest_r_color['R'].values[0]\n",
    "\n",
    "print(f\"lowest R Value: {lowest_r_value}\")\n",
    "print(f\"Color Name with lowest R Value: {lowest_r_color_name}\")\n"
   ]
  },
  {
   "cell_type": "code",
   "execution_count": 71,
   "id": "d77e1ab9",
   "metadata": {},
   "outputs": [
    {
     "name": "stdout",
     "output_type": "stream",
     "text": [
      "Highest G Value: 255\n",
      "Color Name with Highest G Value: Aqua\n"
     ]
    }
   ],
   "source": [
    "# Find the color with the highest G value\n",
    "highest_g_color = color_dataset[color_dataset['G'] == color_dataset['G'].max()]\n",
    "highest_g_color_name = highest_g_color['color_name'].values[0]\n",
    "highest_g_value = highest_g_color['G'].values[0]\n",
    "\n",
    "print(f\"Highest G Value: {highest_g_value}\")\n",
    "print(f\"Color Name with Highest G Value: {highest_g_color_name}\")"
   ]
  },
  {
   "cell_type": "code",
   "execution_count": 72,
   "id": "5bc0d1d8",
   "metadata": {},
   "outputs": [
    {
     "name": "stdout",
     "output_type": "stream",
     "text": [
      "lowest G Value: 0\n",
      "Color Name with lowest G Value: Black\n"
     ]
    }
   ],
   "source": [
    "# Find the color with the lowest G value\n",
    "lowest_g_color = color_dataset[color_dataset['G'] == color_dataset['G'].min()]\n",
    "lowest_g_color_name = lowest_g_color['color_name'].values[0]\n",
    "lowest_g_value = lowest_g_color['G'].values[0]\n",
    "\n",
    "print(f\"lowest G Value: {lowest_g_value}\")\n",
    "print(f\"Color Name with lowest G Value: {lowest_g_color_name}\")"
   ]
  },
  {
   "cell_type": "code",
   "execution_count": 73,
   "id": "15524c9e",
   "metadata": {},
   "outputs": [
    {
     "name": "stdout",
     "output_type": "stream",
     "text": [
      "Highest B Value: 255\n",
      "Color Name with Highest b Value: Alice Blue\n"
     ]
    }
   ],
   "source": [
    "# Find the color with the highest B value\n",
    "highest_b_color = color_dataset[color_dataset['B'] == color_dataset['B'].max()]\n",
    "highest_b_color_name = highest_b_color['color_name'].values[0]\n",
    "highest_b_value = highest_b_color['B'].values[0]\n",
    "\n",
    "print(f\"Highest B Value: {highest_b_value}\")\n",
    "print(f\"Color Name with Highest b Value: {highest_b_color_name}\")"
   ]
  },
  {
   "cell_type": "code",
   "execution_count": 74,
   "id": "21134011",
   "metadata": {},
   "outputs": [
    {
     "name": "stdout",
     "output_type": "stream",
     "text": [
      "lowest B Value: 0\n",
      "Color Name with lowest B Value: Amber\n"
     ]
    }
   ],
   "source": [
    "# Find the color with the lowest G value\n",
    "lowest_b_color = color_dataset[color_dataset['B'] == color_dataset['B'].min()]\n",
    "lowest_b_color_name = lowest_b_color['color_name'].values[0]\n",
    "lowest_b_value = lowest_b_color['B'].values[0]\n",
    "\n",
    "print(f\"lowest B Value: {lowest_b_value}\")\n",
    "print(f\"Color Name with lowest B Value: {lowest_b_color_name}\")"
   ]
  },
  {
   "cell_type": "code",
   "execution_count": 75,
   "id": "4f658eb4",
   "metadata": {},
   "outputs": [
    {
     "name": "stdout",
     "output_type": "stream",
     "text": [
      "Highest R Value: 255\n",
      "Highest G Value: 255\n",
      "Highest B Value: 255\n",
      "Color Name with Highest R, G, and B Values: White\n",
      "Color Name with Highest R, G, and B Values: #fff\n"
     ]
    }
   ],
   "source": [
    "# Find the color with the highest R, G, and B values simultaneously\n",
    "highest_rgb_color = color_dataset[(color_dataset['R'] == color_dataset['R'].max()) & (color_dataset['G'] == color_dataset['G'].max()) & (color_dataset['B'] ==color_dataset['B'].max())]\n",
    "\n",
    "if not highest_rgb_color.empty:\n",
    "    highest_rgb_color_name = highest_rgb_color['color_name'].values[0]\n",
    "    highest_rgb_hex_name = highest_rgb_color['hex'].values[0]\n",
    "    highest_r_value = highest_rgb_color['R'].values[0]\n",
    "    highest_g_value = highest_rgb_color['G'].values[0]\n",
    "    highest_b_value = highest_rgb_color['B'].values[0]\n",
    "\n",
    "    print(f\"Highest R Value: {highest_r_value}\")\n",
    "    print(f\"Highest G Value: {highest_g_value}\")\n",
    "    print(f\"Highest B Value: {highest_b_value}\")\n",
    "    print(f\"Color Name with Highest R, G, and B Values: {highest_rgb_color_name}\")\n",
    "    print(f\"Color Name with Highest R, G, and B Values: {highest_rgb_hex_name}\")\n",
    "else:\n",
    "    print(\"No color found with the highest R, G, and B values.\")"
   ]
  },
  {
   "cell_type": "code",
   "execution_count": 76,
   "id": "f5cb16b9",
   "metadata": {},
   "outputs": [
    {
     "name": "stdout",
     "output_type": "stream",
     "text": [
      "Lowest R Value: 0\n",
      "Lowest G Value: 0\n",
      "Lowest B Value: 0\n",
      "Color Name with Lowest R, G, and B Values: Black\n",
      "Color Name with Lowest R, G, and B Values: #000\n"
     ]
    }
   ],
   "source": [
    "# Find the color with the lowest R, G, and B values simultaneously\n",
    "lowest_rgb_color = color_dataset[(color_dataset['R'] == color_dataset['R'].min()) & (color_dataset['G'] == color_dataset['G'].min()) & (color_dataset['B'] ==color_dataset['B'].min())]\n",
    "\n",
    "if not lowest_rgb_color.empty:\n",
    "    lowest_rgb_color_name = lowest_rgb_color['color_name'].values[0]\n",
    "    lowest_rgb_hex_name = lowest_rgb_color['hex'].values[0]\n",
    "    lowest_r_value = lowest_rgb_color['R'].values[0]\n",
    "    lowest_g_value = lowest_rgb_color['G'].values[0]\n",
    "    lowest_b_value = lowest_rgb_color['B'].values[0]\n",
    "\n",
    "    print(f\"Lowest R Value: {lowest_r_value}\")\n",
    "    print(f\"Lowest G Value: {lowest_g_value}\")\n",
    "    print(f\"Lowest B Value: {lowest_b_value}\")\n",
    "    print(f\"Color Name with Lowest R, G, and B Values: {lowest_rgb_color_name}\")\n",
    "    print(f\"Color Name with Lowest R, G, and B Values: {lowest_rgb_hex_name}\")\n",
    "else:\n",
    "    print(\"No color found with the lowest R, G, and B values.\")"
   ]
  },
  {
   "cell_type": "code",
   "execution_count": 77,
   "id": "7bedcb2c",
   "metadata": {},
   "outputs": [],
   "source": [
    "clicked = False\n",
    "r = g = b = xpos = ypos = 0"
   ]
  },
  {
   "cell_type": "code",
   "execution_count": 78,
   "id": "23be4d21",
   "metadata": {},
   "outputs": [],
   "source": [
    "#Your draw_function is a custom function that you define to respond to mouse events. \n",
    "#It should take certain arguments, as described below, to process the event information:\n",
    "#You can then write code within draw_function to respond to the specific mouse events and their coordinates, as needed for your application.\n",
    "def draw_function(event, x,y,flags,param):\n",
    "    if event == cv2.EVENT_LBUTTONDBLCLK:\n",
    "        global b,g,r,xpos,ypos, clicked\n",
    "        clicked = True\n",
    "        xpos = x\n",
    "        ypos = y\n",
    "        b,g,r = image[y,x]\n",
    "        b = int(b)\n",
    "        g = int(g)\n",
    "        r = int(r)"
   ]
  },
  {
   "cell_type": "code",
   "execution_count": 79,
   "id": "e6a0a3e6",
   "metadata": {},
   "outputs": [],
   "source": [
    "cv2.namedWindow('color detection image')\n",
    "cv2.setMouseCallback('color detection image',draw_function)"
   ]
  },
  {
   "cell_type": "code",
   "execution_count": 80,
   "id": "60dcf7c6",
   "metadata": {},
   "outputs": [],
   "source": [
    "#calculate the distance from each color and find the shortest one \n",
    "#Our distance is calculated by this formula:\n",
    "#d = abs(Red – ithRedColor) + (Green – ithGreenColor) + (Blue – ithBlueColor)\n",
    "def getColorName(R,G,B):\n",
    "    minimum = 1000\n",
    "    for i in range(len(color_dataset)):\n",
    "        d = abs(R- int(color_dataset.loc[i,\"R\"])) + abs(G- int(csv.loc[i,\"G\"]))+ abs(B- int(csv.loc[i,\"B\"]))\n",
    "        if(d<minimum):\n",
    "            minimum = d\n",
    "            color_name = color_dataset.loc[i,\"color_name\"]\n",
    "    return color_name"
   ]
  },
  {
   "cell_type": "code",
   "execution_count": 81,
   "id": "68740a5d",
   "metadata": {},
   "outputs": [],
   "source": [
    "while(1):\n",
    "    \n",
    "    cv2.imshow(\"color detection image\",image)\n",
    "    if (clicked):\n",
    "        #cv2.rectangle(image, startpoint, endpoint, color, thickness)-1 fills entire rectangle \n",
    "        cv2.rectangle(image,(20,20), (750,60), (b,g,r), -1)\n",
    "        color_name = getColorName(r,g,b) + ' R='+ str(r) +  ' G='+ str(g) +  ' B='+ str(b)\n",
    "        #cv2.putText(img,text,start,font(0-7),fontScale,color,thickness,lineType )\n",
    "        cv2.putText(image, color_name,(50,50),2,0.8,(255,255,255),2,cv2.LINE_AA)\n",
    "        #For very light colours we will display text in black colour\n",
    "        if(r+g+b>=600):\n",
    "            cv2.putText(image, color_name,(50,50),2,0.8,(0,0,0),2,cv2.LINE_AA)\n",
    "            \n",
    "        clicked=False\n",
    "    #when user hit esc\n",
    "    if cv2.waitKey(20) & 0xFF ==27:\n",
    "        break\n",
    "    \n",
    "cv2.destroyAllWindows()"
   ]
  },
  {
   "cell_type": "code",
   "execution_count": null,
   "id": "dd8f8677",
   "metadata": {},
   "outputs": [],
   "source": []
  }
 ],
 "metadata": {
  "kernelspec": {
   "display_name": "Python 3 (ipykernel)",
   "language": "python",
   "name": "python3"
  },
  "language_info": {
   "codemirror_mode": {
    "name": "ipython",
    "version": 3
   },
   "file_extension": ".py",
   "mimetype": "text/x-python",
   "name": "python",
   "nbconvert_exporter": "python",
   "pygments_lexer": "ipython3",
   "version": "3.8.17"
  }
 },
 "nbformat": 4,
 "nbformat_minor": 5
}
